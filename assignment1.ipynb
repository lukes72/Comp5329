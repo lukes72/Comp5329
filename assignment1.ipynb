{
  "nbformat": 4,
  "nbformat_minor": 0,
  "metadata": {
    "kernelspec": {
      "name": "python3",
      "display_name": "Python 3"
    },
    "language_info": {
      "codemirror_mode": {
        "name": "ipython",
        "version": 3
      },
      "file_extension": ".py",
      "mimetype": "text/x-python",
      "name": "python",
      "nbconvert_exporter": "python",
      "pygments_lexer": "ipython3",
      "version": "3.6.9"
    },
    "colab": {
      "provenance": [],
      "include_colab_link": true
    },
    "accelerator": "GPU"
  },
  "cells": [
    {
      "cell_type": "markdown",
      "metadata": {
        "id": "view-in-github",
        "colab_type": "text"
      },
      "source": [
        "<a href=\"https://colab.research.google.com/github/lukes72/USYD/blob/main/assignment1.ipynb\" target=\"_parent\"><img src=\"https://colab.research.google.com/assets/colab-badge.svg\" alt=\"Open In Colab\"/></a>"
      ]
    },
    {
      "cell_type": "markdown",
      "metadata": {
        "id": "OigpLIHWTQU5"
      },
      "source": [
        "# COMP5329 - Deep Learning\n",
        "## Tutorial 2 - Multilayer Neural Network"
      ]
    },
    {
      "cell_type": "markdown",
      "metadata": {
        "id": "7S9Dx7C_TQU6"
      },
      "source": [
        "**Semester 1, 2022**\n",
        "\n",
        "**Objectives:**\n",
        "\n",
        "* To understand the multi-layer perceptron.\n",
        "* To become familiar with backpropagation.\n",
        "\n"
      ]
    },
    {
      "cell_type": "markdown",
      "metadata": {
        "id": "NxMRrQEBTQU7"
      },
      "source": [
        "## Loading the packages"
      ]
    },
    {
      "cell_type": "code",
      "metadata": {
        "id": "PiIktNG2TQU8"
      },
      "source": [
        "import numpy as np\n",
        "import matplotlib.pyplot as pl\n",
        "from ipywidgets import interact, widgets\n",
        "from matplotlib import animation"
      ],
      "execution_count": null,
      "outputs": []
    },
    {
      "cell_type": "markdown",
      "metadata": {
        "id": "UfknvYWYTQU_"
      },
      "source": [
        " ## The Dataset\n",
        "The following script allows you to create a 2D dataset by using the mouse. The left click adds points belonging to class A (blue), and the right click adds points belonging to class B (red). You can create as many points as you desire. The final dataset will contain hence three values per point: x coordinate [-1,1], y coordinate [-1,1] and the class {1,-1}."
      ]
    },
    {
      "cell_type": "code",
      "metadata": {
        "id": "RORTJiCoTQVC"
      },
      "source": [
        "%matplotlib inline"
      ],
      "execution_count": null,
      "outputs": []
    },
    {
      "cell_type": "code",
      "source": [
        "from google.colab import drive\n",
        "drive.mount('/content/drive')"
      ],
      "metadata": {
        "colab": {
          "base_uri": "https://localhost:8080/"
        },
        "id": "Cz1EdgDsQAga",
        "outputId": "7a1fdba2-d187-49f4-be3d-b0749f9e810c"
      },
      "execution_count": null,
      "outputs": [
        {
          "output_type": "stream",
          "name": "stdout",
          "text": [
            "Mounted at /content/drive\n"
          ]
        }
      ]
    },
    {
      "cell_type": "code",
      "source": [
        "# load dataset\n",
        "train_X = np.load('/content/drive/MyDrive/COMP5329/assignment1 data/train_data.npy', encoding='bytes')\n",
        "print(\"train X shape: \" + str(train_X.shape))\n",
        "train_y_raw = np.load('/content/drive/MyDrive/COMP5329/assignment1 data/train_label.npy', encoding='bytes')\n",
        "print(\"train y shape: \" + str(train_y_raw.shape))\n",
        "\n",
        "# check label possible values\n",
        "print(set(train_y_raw.flatten()))\n",
        "\n",
        "# transform labels to one hot\n",
        "train_y = np.zeros(shape = (train_y_raw.shape[0], np.max(train_y_raw) + 1))\n",
        "\n",
        "# fill up the transformed label\n",
        "for idx, i in enumerate(train_y_raw):\n",
        "  train_y[idx][i] = 1\n",
        "\n",
        "# verify one-hot labels\n",
        "print(train_y_raw[0:10])\n",
        "train_y[0:10]"
      ],
      "metadata": {
        "id": "-4XOgdGr-JqC",
        "colab": {
          "base_uri": "https://localhost:8080/"
        },
        "outputId": "6a1fbf26-7e1d-463e-c26f-331db7f1579a"
      },
      "execution_count": null,
      "outputs": [
        {
          "output_type": "stream",
          "name": "stdout",
          "text": [
            "train X shape: (50000, 128)\n",
            "train y shape: (50000, 1)\n",
            "{0, 1, 2, 3, 4, 5, 6, 7, 8, 9}\n",
            "[[6]\n",
            " [9]\n",
            " [9]\n",
            " [4]\n",
            " [1]\n",
            " [1]\n",
            " [2]\n",
            " [7]\n",
            " [8]\n",
            " [3]]\n"
          ]
        },
        {
          "output_type": "execute_result",
          "data": {
            "text/plain": [
              "array([[0., 0., 0., 0., 0., 0., 1., 0., 0., 0.],\n",
              "       [0., 0., 0., 0., 0., 0., 0., 0., 0., 1.],\n",
              "       [0., 0., 0., 0., 0., 0., 0., 0., 0., 1.],\n",
              "       [0., 0., 0., 0., 1., 0., 0., 0., 0., 0.],\n",
              "       [0., 1., 0., 0., 0., 0., 0., 0., 0., 0.],\n",
              "       [0., 1., 0., 0., 0., 0., 0., 0., 0., 0.],\n",
              "       [0., 0., 1., 0., 0., 0., 0., 0., 0., 0.],\n",
              "       [0., 0., 0., 0., 0., 0., 0., 1., 0., 0.],\n",
              "       [0., 0., 0., 0., 0., 0., 0., 0., 1., 0.],\n",
              "       [0., 0., 0., 1., 0., 0., 0., 0., 0., 0.]])"
            ]
          },
          "metadata": {},
          "execution_count": 4
        }
      ]
    },
    {
      "cell_type": "markdown",
      "metadata": {
        "id": "X1YLqe0zTQVF"
      },
      "source": [
        "## Show the dataset"
      ]
    },
    {
      "cell_type": "markdown",
      "metadata": {
        "id": "LBbVI6fyTQVI"
      },
      "source": [
        "## Definition of some activation functions"
      ]
    },
    {
      "cell_type": "markdown",
      "metadata": {
        "id": "Y4ZooR-OTQVK"
      },
      "source": [
        "Linear\n",
        "$$output = x$$\n",
        "\n",
        "Tanh  \n",
        "$$output = tanh(x)$$  \n",
        "\n",
        "Sigmoid\n",
        "$$output = \\frac {1}{1 + e^{-x}}$$"
      ]
    },
    {
      "cell_type": "code",
      "metadata": {
        "id": "csIF2JfSTQVK"
      },
      "source": [
        "# create a activation class\n",
        "# for each time, we can initiale a activation function object with one specific function\n",
        "# for example: f = Activation(\"tanh\")  means we create a tanh activation function.\n",
        "# you can define more activation functions by yourself, such as relu!\n",
        "\n",
        "class Activation(object):\n",
        "    def __tanh(self, x):\n",
        "        return np.tanh(x)\n",
        "\n",
        "    def __tanh_deriv(self, a):\n",
        "        # a = np.tanh(x)\n",
        "        return 1.0 - a**2\n",
        "    def __logistic(self, x):\n",
        "        return 1.0 / (1.0 + np.exp(-x))\n",
        "\n",
        "    def __logistic_deriv(self, a):\n",
        "        # a = logistic(x)\n",
        "        return  a * (1 - a )\n",
        "\n",
        "    def __relu(self, a):\n",
        "        return np.maximum(0, a)\n",
        "\n",
        "    def __relu_deriv(self, a):\n",
        "        a_new = np.copy(a)\n",
        "        a_new[a_new <= 0] = 0\n",
        "        a_new[a_new > 0] = 1\n",
        "        return a_new\n",
        "\n",
        "    def __softmax(self, x):\n",
        "        sx = x - np.max(x)\n",
        "        e_x = np.exp(sx)\n",
        "        return e_x/np.sum(e_x, axis= x.ndim - 1, keepdims= True)\n",
        "\n",
        "    def __softmax_cross_entropy_deriv(self, a, y):\n",
        "        return a - y\n",
        "\n",
        "    def __init__(self,activation='tanh'):\n",
        "        if activation == 'logistic':\n",
        "            self.f = self.__logistic\n",
        "            self.f_deriv = self.__logistic_deriv\n",
        "        elif activation == 'tanh':\n",
        "            self.f = self.__tanh\n",
        "            self.f_deriv = self.__tanh_deriv\n",
        "        elif activation == 'relu':\n",
        "            self.f = self.__relu\n",
        "            self.f_deriv = self.__relu_deriv\n",
        "        elif activation == 'softmax':\n",
        "            self.f = self.__softmax\n",
        "            self.f_deriv = self.__softmax_cross_entropy_deriv"
      ],
      "execution_count": null,
      "outputs": []
    },
    {
      "cell_type": "code",
      "source": [],
      "metadata": {
        "id": "GtshCAdraHwb"
      },
      "execution_count": null,
      "outputs": []
    },
    {
      "cell_type": "markdown",
      "metadata": {
        "id": "91dBdVq4TQVN"
      },
      "source": [
        "### Define HiddenLayer"
      ]
    },
    {
      "cell_type": "markdown",
      "metadata": {
        "id": "iBnDirODTQVO"
      },
      "source": [
        "$$output = f\\_act(\\sum_{i=0}^{1}{(I_{i} * W_{i})} + b)$$"
      ]
    },
    {
      "cell_type": "code",
      "metadata": {
        "id": "GymZcsO0TQVO"
      },
      "source": [
        "# now we define the hidden layer for the mlp\n",
        "# for example, h1 = HiddenLayer(10, 5, activation=\"tanh\") means we create a layer with 10 dimension input and 5 dimension output, and using tanh activation function.\n",
        "# notes: make sure the input size of hiddle layer should be matched with the output size of the previous layer!\n",
        "\n",
        "class HiddenLayer(object):\n",
        "    def __init__(self,n_in, n_out,\n",
        "                 activation_last_layer='tanh',activation='tanh', W=None, b=None):\n",
        "        \"\"\"\n",
        "        Typical hidden layer of a MLP: units are fully-connected and have\n",
        "        sigmoidal activation function. Weight matrix W is of shape (n_in,n_out)\n",
        "        and the bias vector b is of shape (n_out,).\n",
        "\n",
        "        NOTE : The nonlinearity used here is tanh\n",
        "\n",
        "        Hidden unit activation is given by: tanh(dot(input,W) + b)\n",
        "\n",
        "        :type n_in: int\n",
        "        :param n_in: dimensionality of input\n",
        "\n",
        "        :type n_out: int\n",
        "        :param n_out: number of hidden units\n",
        "\n",
        "        :type activation: string\n",
        "        :param activation: Non linearity to be applied in the hidden\n",
        "                           layer\n",
        "        \"\"\"\n",
        "        self.input=None\n",
        "        self.activation=Activation(activation).f\n",
        "\n",
        "        # activation deriv of PREVIOUS layer\n",
        "        self.activation_deriv=None\n",
        "        if activation_last_layer:\n",
        "            self.activation_deriv=Activation(activation_last_layer).f_deriv\n",
        "\n",
        "        # we randomly assign small values for the weights as the initiallization\n",
        "        self.W = np.random.uniform(\n",
        "                low=-np.sqrt(6. / (n_in + n_out)),\n",
        "                high=np.sqrt(6. / (n_in + n_out)),\n",
        "                size=(n_in, n_out)\n",
        "        ).astype(np.float64)\n",
        "        # if activation == 'logistic':\n",
        "        #     self.W *= 4\n",
        "        print(self.W.shape)\n",
        "\n",
        "        # we set the size of bias as the size of output dimension\n",
        "        self.b = np.zeros(n_out,)\n",
        "        print(self.b.shape)\n",
        "\n",
        "        # we set he size of weight gradation as the size of weight\n",
        "        self.grad_W = np.zeros(self.W.shape).astype(np.float64)\n",
        "        self.grad_b = np.zeros(self.b.shape).astype(np.float64)\n",
        "\n",
        "        # Momentum: we initialize momentums, so if we optimize the neural net with momentum we can apply it while update\n",
        "        self.momentum_W = np.zeros(self.W.shape).astype(np.float64)\n",
        "        self.momentum_b = np.zeros(self.b.shape).astype(np.float64)\n",
        "\n",
        "\n",
        "    # the forward and backward progress (in the hidden layer level) for each training epoch\n",
        "    # please learn the week2 lec contents carefully to understand these codes.\n",
        "    def forward(self, input):\n",
        "        '''\n",
        "        :type input: numpy.array\n",
        "        :param input: a symbolic tensor of shape (n_in,)\n",
        "        '''\n",
        "        lin_output = np.dot(input, self.W) + self.b\n",
        "        self.output = (\n",
        "            lin_output if self.activation is None\n",
        "            else self.activation(lin_output)\n",
        "        )\n",
        "        self.input=input\n",
        "        return self.output\n",
        "\n",
        "    # why need the output_layer variable? we got the delta after the current activation layer already..\n",
        "    def backward(self, delta, output_layer=False):\n",
        "        batch_size = self.input.shape[0]\n",
        "        self.grad_W = ((np.atleast_2d(self.input)/ batch_size).T.dot(np.atleast_2d(delta)))\n",
        "        self.grad_b = np.sum(delta, axis=0) / batch_size\n",
        "        if self.activation_deriv:\n",
        "            delta = delta.dot(self.W.T) * self.activation_deriv(self.input)\n",
        "        return delta"
      ],
      "execution_count": null,
      "outputs": []
    },
    {
      "cell_type": "markdown",
      "metadata": {
        "id": "KwsUH3fhTQVR"
      },
      "source": [
        "## The MLP\n",
        "\n",
        "The class implements a MLP with a fully configurable number of layers and neurons. It adapts its weights using the backpropagation algorithm in an online manner."
      ]
    },
    {
      "cell_type": "code",
      "source": [
        "a = np.arange(27).reshape(3,3,3)\n",
        "print(np.max(a))"
      ],
      "metadata": {
        "colab": {
          "base_uri": "https://localhost:8080/"
        },
        "id": "--1R39rTUEUz",
        "outputId": "fc61cb7e-20a2-456e-dbcd-18f32fb87090"
      },
      "execution_count": null,
      "outputs": [
        {
          "output_type": "stream",
          "name": "stdout",
          "text": [
            "26\n"
          ]
        }
      ]
    },
    {
      "cell_type": "code",
      "metadata": {
        "id": "QWpvH41iTQVR"
      },
      "source": [
        "from scipy.special import xlogy\n",
        "class MLP:\n",
        "    \"\"\"\n",
        "    \"\"\"\n",
        "\n",
        "    # for initiallization, the code will create all layers automatically based on the provided parameters.\n",
        "    def __init__(self, layers, activation=[None,'tanh','tanh']):\n",
        "        \"\"\"\n",
        "        :param layers: A list containing the number of units in each layer.\n",
        "        Should be at least two values\n",
        "        :param activation: The activation function to be used. Can be\n",
        "        \"logistic\" or \"tanh\"\n",
        "        \"\"\"\n",
        "        ### initialize layers\n",
        "        self.layers=[]\n",
        "        self.params=[]\n",
        "\n",
        "        self.activation=activation\n",
        "        for i in range(len(layers)-1):\n",
        "            self.layers.append(HiddenLayer(layers[i],layers[i+1],activation[i],activation[i+1]))\n",
        "\n",
        "    # forward progress: pass the information through the layers and out the results of final output layer\n",
        "    def forward(self,input):\n",
        "        for layer in self.layers:\n",
        "            output=layer.forward(input)\n",
        "            input=output\n",
        "        return output\n",
        "\n",
        "    # define the objection/loss function, we use mean sqaure error (MSE) as the loss\n",
        "    # you can try other loss, such as cross entropy.\n",
        "    # when you try to change the loss, you should also consider the backward formula for the new loss as well!\n",
        "    def criterion_MSE(self,y,y_hat):\n",
        "        activation_deriv=Activation(self.activation[-1]).f_deriv\n",
        "        # MSE\n",
        "        error = y-y_hat\n",
        "        loss=error**2\n",
        "        # calculate the MSE's delta of the output layer\n",
        "        delta=-2*error*activation_deriv(y_hat)\n",
        "        # return loss and delta\n",
        "        return loss,delta\n",
        "\n",
        "    def criterion_cross_entropy(self,y,y_hat):\n",
        "        loss = -np.mean(np.sum(y * np.log(y_hat), axis = 1))\n",
        "        delta = Activation(\"softmax\").f_deriv(y_hat, y)\n",
        "        return loss,delta\n",
        "\n",
        "    # backward progress\n",
        "    def backward(self,delta):\n",
        "        delta=self.layers[-1].backward(delta,output_layer=True)\n",
        "        for layer in reversed(self.layers[:-1]):\n",
        "            delta=layer.backward(delta)\n",
        "\n",
        "    # update the network weights after backward.\n",
        "    # make sure you run the backward function before the update function!\n",
        "    def update(self,lr, momentum_gamma = None):\n",
        "        for layer in self.layers:\n",
        "          if momentum_gamma is None:\n",
        "            layer.W -= lr * layer.grad_W\n",
        "            layer.b -= lr * layer.grad_b\n",
        "          else:\n",
        "            # update momentum of the layer\n",
        "            layer.momentum_W = (momentum_gamma * layer.momentum_W) + (lr * layer.grad_W)\n",
        "            layer.momentum_b = (momentum_gamma * layer.momentum_b) + (lr * layer.grad_b)\n",
        "            # apply momentum to update weights\n",
        "            layer.W -= layer.momentum_W\n",
        "            layer.b -= layer.momentum_b\n",
        "\n",
        "    # define the training function\n",
        "    # it will return all losses within the whole training process.\n",
        "    def fit(self,X,y,learning_rate=0.1, epochs=100, momentum_gamma = None, batch_size=1):\n",
        "        \"\"\"\n",
        "        Online learning.\n",
        "        :param X: Input data or features\n",
        "        :param y: Input targets\n",
        "        :param learning_rate: parameters defining the speed of learning\n",
        "        :param epochs: number of times the dataset is presented to the network for learning\n",
        "        \"\"\"\n",
        "        X=np.array(X)\n",
        "        y=np.array(y)\n",
        "        to_return = np.zeros(epochs)\n",
        "        for k in range(epochs):\n",
        "            loss=np.zeros(X.shape[0]//batch_size) # the losses in each interation\n",
        "            for it in range(X.shape[0]//batch_size):\n",
        "            # for it in range(1):\n",
        "                i=np.random.randint(X.shape[0], size=batch_size) # pick 1 data point random\n",
        "                input = X[i]\n",
        "                # forward pass\n",
        "                y_hat = self.forward(X[i]) # feed it\n",
        "                # backward pass\n",
        "                # loss[it],delta=self.criterion_MSE(y[i],y_hat)\n",
        "                loss[it],delta=self.criterion_cross_entropy(y[i],y_hat)\n",
        "                self.backward(delta)\n",
        "                # update\n",
        "                self.update(learning_rate, momentum_gamma)\n",
        "\n",
        "            to_return[k] = np.mean(loss)\n",
        "        return to_return\n",
        "\n",
        "    # define the prediction function\n",
        "    # we can use predict function to predict the results of new data, by using the well-trained network.\n",
        "    def predict(self, x):\n",
        "        x = np.array(x)\n",
        "        # output = np.zeros(x.shape[0])\n",
        "        output = []\n",
        "        for i in np.arange(x.shape[0]):\n",
        "            # output[i] = self.forward(x[i,:])\n",
        "            output.append(self.forward(x[i,:]))\n",
        "        return np.array(output)"
      ],
      "execution_count": null,
      "outputs": []
    },
    {
      "cell_type": "markdown",
      "metadata": {
        "id": "KlgcO0CNTQVU"
      },
      "source": [
        "## Learning"
      ]
    },
    {
      "cell_type": "code",
      "metadata": {
        "id": "XEo7LPtITQVX",
        "colab": {
          "base_uri": "https://localhost:8080/",
          "height": 417
        },
        "outputId": "e18fb8a8-ad45-4653-8038-58b6a731dc06"
      },
      "source": [
        "### Try different learning rate and epochs\n",
        "###  first multiclass classification model\n",
        "nn = MLP([128,12, 10], [None,'relu','softmax'])\n",
        "input_data = train_X\n",
        "output_data = train_y\n",
        "\n",
        "print(input_data.shape)\n",
        "print(output_data.shape)\n",
        "\n",
        "cross_entropy = nn.fit(input_data, output_data, learning_rate=0.00001, epochs=30, batch_size=5)\n",
        "pl.figure(figsize=(15,4))\n",
        "pl.plot(cross_entropy)\n",
        "pl.grid()"
      ],
      "execution_count": null,
      "outputs": [
        {
          "output_type": "stream",
          "name": "stdout",
          "text": [
            "(128, 12)\n",
            "(12,)\n",
            "(12, 10)\n",
            "(10,)\n",
            "(50000, 128)\n",
            "(50000, 10)\n"
          ]
        },
        {
          "output_type": "display_data",
          "data": {
            "text/plain": [
              "<Figure size 1500x400 with 1 Axes>"
            ],
            "image/png": "[encoded data removed]"
          },
          "metadata": {}
        }
      ]
    },
    {
      "cell_type": "code",
      "source": [
        "### Try different learning rate and epochs\n",
        "###  first multiclass classification model\n",
        "nn2 = MLP([128,12, 10], [None,'relu','softmax'])\n",
        "input_data = train_X\n",
        "output_data = train_y\n",
        "\n",
        "print(input_data.shape)\n",
        "print(output_data.shape)\n",
        "\n",
        "cross_entropy2 = nn2.fit(input_data, output_data, learning_rate=0.00001, epochs=3, batch_size=1)\n",
        "pl.figure(figsize=(15,4))\n",
        "pl.plot(cross_entropy2)\n",
        "pl.grid()"
      ],
      "metadata": {
        "id": "1-IXJEAIcmZ4",
        "colab": {
          "base_uri": "https://localhost:8080/",
          "height": 415
        },
        "outputId": "32975f51-f1f9-4f4d-bb19-c0dc6fbb5d82"
      },
      "execution_count": null,
      "outputs": [
        {
          "output_type": "stream",
          "name": "stdout",
          "text": [
            "(128, 12)\n",
            "(12,)\n",
            "(12, 10)\n",
            "(10,)\n",
            "(50000, 128)\n",
            "(50000, 10)\n"
          ]
        },
        {
          "output_type": "display_data",
          "data": {
            "text/plain": [
              "<Figure size 1500x400 with 1 Axes>"
            ],
            "image/png": "[encoded data removed]"
          },
          "metadata": {}
        }
      ]
    },
    {
      "cell_type": "code",
      "source": [
        "### Try different learning rate and epochs\n",
        "###  first multiclass classification model\n",
        "nn3 = MLP([128,12, 10], [None,'relu','softmax'])\n",
        "input_data = train_X\n",
        "output_data = train_y\n",
        "\n",
        "print(input_data.shape)\n",
        "print(output_data.shape)\n",
        "\n",
        "cross_entropy3 = nn3.fit(input_data, output_data, learning_rate=0.00001, epochs=30, batch_size=5, momentum_gamma = 0.7)\n",
        "pl.figure(figsize=(15,4))\n",
        "pl.plot(cross_entropy3)\n",
        "pl.grid()"
      ],
      "metadata": {
        "colab": {
          "base_uri": "https://localhost:8080/",
          "height": 417
        },
        "id": "eKu2ppeJX-RL",
        "outputId": "50ea7d13-b428-4db2-b62f-7cb95d5837aa"
      },
      "execution_count": null,
      "outputs": [
        {
          "output_type": "stream",
          "name": "stdout",
          "text": [
            "(128, 12)\n",
            "(12,)\n",
            "(12, 10)\n",
            "(10,)\n",
            "(50000, 128)\n",
            "(50000, 10)\n"
          ]
        },
        {
          "output_type": "display_data",
          "data": {
            "text/plain": [
              "<Figure size 1500x400 with 1 Axes>"
            ],
            "image/png": "[encoded data removed]"
          },
          "metadata": {}
        }
      ]
    },
    {
      "cell_type": "markdown",
      "metadata": {
        "id": "T05l4p9mTQVZ"
      },
      "source": [
        "#### Plot loss in epochs\n",
        "We can visualize the loss change during the training process, to under how we can the network. As we can see, the loss staies at the large level at the beginning, but drop quickly within the training. A small loss value indicate a well-trained network."
      ]
    },
    {
      "cell_type": "code",
      "metadata": {
        "id": "gFAUpnzyTQVa",
        "colab": {
          "base_uri": "https://localhost:8080/",
          "height": 312
        },
        "outputId": "fcb785d8-82c9-4900-c53e-1f91e7426861"
      },
      "source": [
        "pl.figure(figsize=(15,4))\n",
        "pl.plot(cross_entropy)\n",
        "pl.grid()"
      ],
      "execution_count": null,
      "outputs": [
        {
          "output_type": "display_data",
          "data": {
            "text/plain": [
              "<Figure size 1500x400 with 1 Axes>"
            ],
            "image/png": "[encoded data removed]"
          },
          "metadata": {}
        }
      ]
    },
    {
      "cell_type": "markdown",
      "source": [],
      "metadata": {
        "id": "Xl_elnmLaV8e"
      }
    },
    {
      "cell_type": "markdown",
      "metadata": {
        "id": "gN93ZYW3TQVc"
      },
      "source": [
        "## Testing"
      ]
    }
  ]
}